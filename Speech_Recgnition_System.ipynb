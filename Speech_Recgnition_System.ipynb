{
  "nbformat": 4,
  "nbformat_minor": 0,
  "metadata": {
    "colab": {
      "name": "Copy of ACM_PROJECT.ipynb",
      "provenance": [],
      "collapsed_sections": [],
      "authorship_tag": "ABX9TyMJBdq47BC3fOj1dPYm4QmD",
      "include_colab_link": true
    },
    "kernelspec": {
      "name": "python3",
      "display_name": "Python 3"
    },
    "accelerator": "GPU"
  },
  "cells": [
    {
      "cell_type": "markdown",
      "metadata": {
        "id": "view-in-github",
        "colab_type": "text"
      },
      "source": [
        "<a href=\"https://colab.research.google.com/github/rahul0425/Speech-Recognition-System-using-CNN/blob/main/Speech_Recgnition_System.ipynb\" target=\"_parent\"><img src=\"https://colab.research.google.com/assets/colab-badge.svg\" alt=\"Open In Colab\"/></a>"
      ]
    },
    {
      "cell_type": "code",
      "metadata": {
        "id": "WqMvL-rIqNGq"
      },
      "source": [
        "import numpy as np\n",
        "import matplotlib.pyplot as plt\n",
        "import librosa\n",
        "import IPython.display as ipd\n",
        "import os\n",
        "import librosa.display\n",
        "import tensorflow as tf\n",
        "from tensorflow.keras import layers,models"
      ],
      "execution_count": null,
      "outputs": []
    },
    {
      "cell_type": "code",
      "metadata": {
        "id": "Q0Oz9le-qjfQ",
        "colab": {
          "base_uri": "https://localhost:8080/",
          "height": 34
        },
        "outputId": "067b1ca0-047c-4072-cabd-a4f838cc0cc2"
      },
      "source": [
        "from google.colab import drive\n",
        "drive.mount('/content/drive')"
      ],
      "execution_count": null,
      "outputs": [
        {
          "output_type": "stream",
          "text": [
            "Drive already mounted at /content/drive; to attempt to forcibly remount, call drive.mount(\"/content/drive\", force_remount=True).\n"
          ],
          "name": "stdout"
        }
      ]
    },
    {
      "cell_type": "code",
      "metadata": {
        "id": "MnWLQTYhq829"
      },
      "source": [
        "file_path='/content/drive/My Drive/Colab Notebooks'\n",
        "file_name=['ritik.wav','rahul.wav','Atreya.wav','Bhaskar.wav']\n",
        "graphs=[]\n",
        "for names in file_name:\n",
        "  path=os.path.join(file_path, names)\n",
        "\n",
        "#BASIC FREQUENCY GRAPH\n",
        "\n",
        "  audio,sr=librosa.load(path)\n",
        "  plt.figure(figsize=(14,5))\n",
        "  #librosa.display.waveplot(audio,sr=sr)\n",
        "  \n",
        "\n",
        "#LOG VS TIME GRAPH  \n",
        "\n",
        "  fft=np.abs(librosa.stft(audio))\n",
        "  #librosa.display.specshow(fft,sr=sr,x_axis='time',y_axis='linear')\n",
        "  fft_db=librosa.amplitude_to_db(fft,ref=np.max)\n",
        "  #librosa.display.specshow(fft_db,sr=sr, x_axis='time', y_axis='log')\n",
        "\n",
        "#MEL GRAPH\n",
        "\n",
        "  n_mels=128\n",
        "  mel=librosa.filters.mel(sr=sr,n_fft=2040,n_mels=n_mels)\n",
        "  #librosa.display.specshow(mel,sr=sr,x_axis='linear')\n",
        "\n",
        "#FINAL MEL GRAPH\n",
        "\n",
        "  plt.figure(figsize=(20,5))\n",
        "  mel_spec= librosa.feature.melspectrogram(audio,sr=sr,n_mels=20)\n",
        "  mel_db= librosa.power_to_db(mel_spec,ref= np.max)\n",
        "\n",
        "  mel_db= np.array(mel_db)\n",
        "  graphs.append(mel_db)\n",
        "  librosa.display.specshow(mel_db,sr=sr,x_axis='time',y_axis='log')"
      ],
      "execution_count": null,
      "outputs": []
    },
    {
      "cell_type": "code",
      "metadata": {
        "id": "47UTfFvpgMxd"
      },
      "source": [
        "print(graphs[0].shape)\n",
        "print(graphs[1].shape)\n",
        "print(graphs[2].shape)\n",
        "print(graphs[3].shape)\n",
        "\n"
      ],
      "execution_count": null,
      "outputs": []
    },
    {
      "cell_type": "code",
      "metadata": {
        "id": "ktH3l0fThnb4"
      },
      "source": [
        "def lookup_table(label):\n",
        "  labels=file_name\n",
        "  return labels[label]"
      ],
      "execution_count": null,
      "outputs": []
    },
    {
      "cell_type": "code",
      "metadata": {
        "id": "v8No-a-ZOxW1"
      },
      "source": [
        "X_train=[]\n",
        "Y_train=[]\n",
        "\n",
        "for i in range(1,51):\n",
        "  start = np.random.randint(0,2000)\n",
        "  end=start+50\n",
        "  x_sub=graphs[0][:,start:end]\n",
        "  X_train.append(x_sub)\n",
        "  Y_train.append(0)\n",
        "\n",
        "for i in range(1,51):\n",
        "  start = np.random.randint(0,2000)\n",
        "  end=start+50\n",
        "  x_sub=graphs[1][:,start:end]\n",
        "  X_train.append(x_sub)\n",
        "  Y_train.append(1)\n",
        "\n",
        "for i in range(1,51):\n",
        "  start = np.random.randint(0,2000)\n",
        "  end=start+50\n",
        "  x_sub=graphs[2][:,start:end]\n",
        "  X_train.append(x_sub)\n",
        "  Y_train.append(2)\n",
        "\n",
        "for i in range(1,51):\n",
        "  start = np.random.randint(0,2000)\n",
        "  end=start+50\n",
        "  x_sub=graphs[3][:,start:end]\n",
        "  X_train.append(x_sub)\n",
        "  Y_train.append(3)\n",
        "\n",
        "\n"
      ],
      "execution_count": null,
      "outputs": []
    },
    {
      "cell_type": "code",
      "metadata": {
        "id": "VBQiv0H1KGbJ"
      },
      "source": [
        "X_train=np.array(X_train)\n",
        "Y_train=np.array(Y_train)\n",
        "Y_train.shape"
      ],
      "execution_count": null,
      "outputs": []
    },
    {
      "cell_type": "code",
      "metadata": {
        "id": "KKWPAmV91CFY"
      },
      "source": [
        "x_train=np.reshape(X_train,(X_train.shape[0],X_train.shape[1],X_train.shape[2],1))\n",
        "print(x_train.shape)\n",
        "y_train=np.reshape(Y_train,(Y_train.shape[0],1))\n",
        "print(y_train.shape)"
      ],
      "execution_count": null,
      "outputs": []
    },
    {
      "cell_type": "code",
      "metadata": {
        "id": "B2tAkTFj7O5Q"
      },
      "source": [
        "x_test=[]\n",
        "y_test=[]\n",
        "\n",
        "for i in range(1,21):\n",
        "  start = np.random.randint(0,2000)\n",
        "  end=start+50\n",
        "  x_sub=graphs[0][:,start:end]\n",
        "  x_test.append(x_sub)\n",
        "  y_test.append(0)\n",
        "\n",
        "for i in range(1,21):\n",
        "  start = np.random.randint(0,2000)\n",
        "  end=start+50\n",
        "  x_sub=graphs[1][:,start:end]\n",
        "  x_test.append(x_sub)\n",
        "  y_test.append(1)\n",
        "\n",
        "for i in range(1,21):\n",
        "  start = np.random.randint(0,2000)\n",
        "  end=start+50\n",
        "  x_sub=graphs[2][:,start:end]\n",
        "  x_test.append(x_sub)\n",
        "  y_test.append(2)\n",
        "\n",
        "for i in range(1,21):\n",
        "  start = np.random.randint(0,2000)\n",
        "  end=start+50\n",
        "  x_sub=graphs[3][:,start:end]\n",
        "  x_test.append(x_sub)\n",
        "  y_test.append(3)\n",
        "\n",
        "\n"
      ],
      "execution_count": null,
      "outputs": []
    },
    {
      "cell_type": "code",
      "metadata": {
        "id": "fHj-iJnHoLyi"
      },
      "source": [
        "x_test=np.array(x_test)\n",
        "y_test=np.array(y_test)\n",
        "print(x_test.shape)\n",
        "print(y_test.shape)\n",
        "x_test=np.reshape(x_test,(x_test.shape[0],x_test.shape[1],x_test.shape[2],1))\n",
        "print(x_test.shape)\n",
        "y_test=np.reshape(y_test,(y_test.shape[0],1))\n",
        "print(y_test.shape)"
      ],
      "execution_count": null,
      "outputs": []
    },
    {
      "cell_type": "code",
      "metadata": {
        "id": "u1WGEpzqahDR"
      },
      "source": [
        "def get_model():\n",
        "  model = models.Sequential()\n",
        "  model.add(layers.Flatten(input_shape = [20,50]))\n",
        "  model.add(layers.Dense(32, activation = 'relu'))\n",
        "  model.add(layers.Dense(64, activation = 'relu'))\n",
        "  model.add(layers.Dense(10, activation = 'softmax'))\n",
        " \n",
        "  model.summary()\n",
        "  return model\n"
      ],
      "execution_count": null,
      "outputs": []
    },
    {
      "cell_type": "code",
      "metadata": {
        "id": "Efuq80yCBIHk"
      },
      "source": [
        "classifier= get_model()\n",
        "classifier.compile(optimizer ='adam', loss='sparse_categorical_crossentropy',metrics=['accuracy'])\n"
      ],
      "execution_count": null,
      "outputs": []
    },
    {
      "cell_type": "code",
      "metadata": {
        "id": "M1ylmA6e1KkS"
      },
      "source": [
        "classifier.fit(x_train,y_train, validation_data=(x_test,y_test),epochs=10)"
      ],
      "execution_count": null,
      "outputs": []
    },
    {
      "cell_type": "code",
      "metadata": {
        "id": "nAPueicMpN_M"
      },
      "source": [
        "def predict(index):\n",
        "  voice=lookup_table(y_test[index][0])\n",
        "  input=x_test[index]\n",
        "  print('Voice of: {}'.format(voice))\n",
        "  #librosa.display.specshow(input,sr=sr,x_axis='time',y_axis='log')\n",
        "  input=input.reshape(1,input.shape[0],input.shape[1],input.shape[2])\n",
        "  #print(classifier.predict(input))\n",
        "  prediction= lookup_table(np.argmax(classifier.predict(input)))\n",
        "  print('Prediction: {}'.format(prediction))\n",
        "  print('--------')"
      ],
      "execution_count": null,
      "outputs": []
    },
    {
      "cell_type": "code",
      "metadata": {
        "id": "sum6MZ27y2z2"
      },
      "source": [
        "for i in range(79):\n",
        "  predict(i)"
      ],
      "execution_count": null,
      "outputs": []
    }
  ]
}